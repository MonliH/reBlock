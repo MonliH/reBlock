{
 "cells": [
  {
   "cell_type": "code",
   "execution_count": 1,
   "metadata": {},
   "outputs": [],
   "source": [
    "import pandas\n",
    "\n",
    "df = pandas.read_csv(\"voted_df.csv\")"
   ]
  },
  {
   "cell_type": "code",
   "execution_count": 2,
   "metadata": {},
   "outputs": [
    {
     "data": {
      "text/html": [
       "<div>\n",
       "<style scoped>\n",
       "    .dataframe tbody tr th:only-of-type {\n",
       "        vertical-align: middle;\n",
       "    }\n",
       "\n",
       "    .dataframe tbody tr th {\n",
       "        vertical-align: top;\n",
       "    }\n",
       "\n",
       "    .dataframe thead th {\n",
       "        text-align: right;\n",
       "    }\n",
       "</style>\n",
       "<table border=\"1\" class=\"dataframe\">\n",
       "  <thead>\n",
       "    <tr style=\"text-align: right;\">\n",
       "      <th></th>\n",
       "      <th>videoID</th>\n",
       "      <th>startTime</th>\n",
       "      <th>endTime</th>\n",
       "      <th>votes</th>\n",
       "    </tr>\n",
       "  </thead>\n",
       "  <tbody>\n",
       "    <tr>\n",
       "      <th>0</th>\n",
       "      <td>fBxtS9BpVWs</td>\n",
       "      <td>41.00000</td>\n",
       "      <td>53.000000</td>\n",
       "      <td>116</td>\n",
       "    </tr>\n",
       "    <tr>\n",
       "      <th>1</th>\n",
       "      <td>fBxtS9BpVWs</td>\n",
       "      <td>714.00000</td>\n",
       "      <td>763.000000</td>\n",
       "      <td>64</td>\n",
       "    </tr>\n",
       "    <tr>\n",
       "      <th>2</th>\n",
       "      <td>uqKGREZs6-w</td>\n",
       "      <td>475.52167</td>\n",
       "      <td>532.208740</td>\n",
       "      <td>302</td>\n",
       "    </tr>\n",
       "    <tr>\n",
       "      <th>3</th>\n",
       "      <td>1rb3bMvDdX4</td>\n",
       "      <td>588.94100</td>\n",
       "      <td>631.897770</td>\n",
       "      <td>158</td>\n",
       "    </tr>\n",
       "    <tr>\n",
       "      <th>4</th>\n",
       "      <td>1rb3bMvDdX4</td>\n",
       "      <td>0.00000</td>\n",
       "      <td>6.861597</td>\n",
       "      <td>348</td>\n",
       "    </tr>\n",
       "    <tr>\n",
       "      <th>...</th>\n",
       "      <td>...</td>\n",
       "      <td>...</td>\n",
       "      <td>...</td>\n",
       "      <td>...</td>\n",
       "    </tr>\n",
       "    <tr>\n",
       "      <th>122708</th>\n",
       "      <td>idX-x5W5O30</td>\n",
       "      <td>35.17800</td>\n",
       "      <td>121.273000</td>\n",
       "      <td>4</td>\n",
       "    </tr>\n",
       "    <tr>\n",
       "      <th>122709</th>\n",
       "      <td>6gi6SZyMGiA</td>\n",
       "      <td>208.10900</td>\n",
       "      <td>266.010000</td>\n",
       "      <td>3</td>\n",
       "    </tr>\n",
       "    <tr>\n",
       "      <th>122710</th>\n",
       "      <td>bFNJVaO9E-o</td>\n",
       "      <td>66.15000</td>\n",
       "      <td>80.957000</td>\n",
       "      <td>7</td>\n",
       "    </tr>\n",
       "    <tr>\n",
       "      <th>122711</th>\n",
       "      <td>bFNJVaO9E-o</td>\n",
       "      <td>697.50000</td>\n",
       "      <td>732.581000</td>\n",
       "      <td>5</td>\n",
       "    </tr>\n",
       "    <tr>\n",
       "      <th>122712</th>\n",
       "      <td>psAlJtgeQsY</td>\n",
       "      <td>291.24400</td>\n",
       "      <td>357.969000</td>\n",
       "      <td>3</td>\n",
       "    </tr>\n",
       "  </tbody>\n",
       "</table>\n",
       "<p>122713 rows × 4 columns</p>\n",
       "</div>"
      ],
      "text/plain": [
       "            videoID  startTime     endTime  votes\n",
       "0       fBxtS9BpVWs   41.00000   53.000000    116\n",
       "1       fBxtS9BpVWs  714.00000  763.000000     64\n",
       "2       uqKGREZs6-w  475.52167  532.208740    302\n",
       "3       1rb3bMvDdX4  588.94100  631.897770    158\n",
       "4       1rb3bMvDdX4    0.00000    6.861597    348\n",
       "...             ...        ...         ...    ...\n",
       "122708  idX-x5W5O30   35.17800  121.273000      4\n",
       "122709  6gi6SZyMGiA  208.10900  266.010000      3\n",
       "122710  bFNJVaO9E-o   66.15000   80.957000      7\n",
       "122711  bFNJVaO9E-o  697.50000  732.581000      5\n",
       "122712  psAlJtgeQsY  291.24400  357.969000      3\n",
       "\n",
       "[122713 rows x 4 columns]"
      ]
     },
     "execution_count": 2,
     "metadata": {},
     "output_type": "execute_result"
    }
   ],
   "source": [
    "df"
   ]
  },
  {
   "cell_type": "code",
   "execution_count": 17,
   "metadata": {},
   "outputs": [
    {
     "data": {
      "text/plain": [
       "85349"
      ]
     },
     "execution_count": 17,
     "metadata": {},
     "output_type": "execute_result"
    }
   ],
   "source": [
    "from collections import defaultdict\n",
    "vid_to_sponsors = defaultdict(list)\n",
    "\n",
    "for row in df.itertuples():\n",
    "    vid_to_sponsors[row.videoID].append((row.startTime, row.endTime))\n",
    "\n",
    "vid_to_sponsors.default_factory = None\n",
    "len(vid_to_sponsors)"
   ]
  },
  {
   "cell_type": "code",
   "execution_count": 3,
   "metadata": {},
   "outputs": [],
   "source": [
    "import json\n",
    "\n",
    "def get_transcript(vid):\n",
    "    return json.load(open(f\"transcripts_merged/{vid}.json\"))"
   ]
  },
  {
   "cell_type": "code",
   "execution_count": 32,
   "metadata": {},
   "outputs": [],
   "source": [
    "import bisect\n",
    "\n",
    "def process_vid(vid: str):\n",
    "    transcript = get_transcript(vid)\n",
    "    segments = vid_to_sponsors[vid]\n",
    "    for start, end in segments:\n",
    "        start *= 1000\n",
    "        end *= 1000\n",
    "\n",
    "        idx_l = bisect.bisect(transcript, start, key=lambda x: x[\"s\"])\n",
    "        idx_r = bisect.bisect(transcript, end, key=lambda x: x[\"e\"])\n",
    "\n",
    "        for i in range(idx_l, idx_r):\n",
    "            transcript[i][\"m\"] = True\n",
    "\n",
    "    tokens = []\n",
    "    token_class = []\n",
    "    for item in transcript:\n",
    "        tokens.append(item[\"w\"].strip())\n",
    "        if \"m\" in item:\n",
    "            token_class.append(\"Y\")\n",
    "        else:\n",
    "            token_class.append(\"N\")\n",
    "    \n",
    "    return tokens, token_class"
   ]
  },
  {
   "cell_type": "code",
   "execution_count": 39,
   "metadata": {},
   "outputs": [
    {
     "name": "stderr",
     "output_type": "stream",
     "text": [
      "100%|██████████| 31608/31608 [01:14<00:00, 425.68it/s]"
     ]
    },
    {
     "name": "stdout",
     "output_type": "stream",
     "text": [
      "Skipped 201 videos\n"
     ]
    },
    {
     "name": "stderr",
     "output_type": "stream",
     "text": [
      "\n"
     ]
    }
   ],
   "source": [
    "import glob\n",
    "from tqdm import tqdm\n",
    "from os import path\n",
    "\n",
    "final_data = []\n",
    "skipped = 0\n",
    "for filepath in tqdm(glob.iglob('transcripts_merged/*.json'), total=len(list(glob.iglob('transcripts_merged/*.json')))):\n",
    "    vid = path.basename(filepath).split(\".\")[0]\n",
    "    try:\n",
    "        tokens, tags = process_vid(vid)\n",
    "    except TypeError:\n",
    "        skipped += 1\n",
    "    except Exception as e:\n",
    "        skipped += 1\n",
    "    final_data.append({\"tokens\": tokens, \"tags\": tags})\n",
    "\n",
    "print(f\"Skipped {skipped} videos\")"
   ]
  },
  {
   "cell_type": "code",
   "execution_count": 40,
   "metadata": {},
   "outputs": [],
   "source": [
    "import json\n",
    "\n",
    "with open(\"data.jsonl\", \"w\") as outfile:\n",
    "    for entry in final_data:\n",
    "        json.dump(entry, outfile)\n",
    "        outfile.write('\\n')"
   ]
  }
 ],
 "metadata": {
  "interpreter": {
   "hash": "3d597f4c481aa0f25dceb95d2a0067e73c0966dcbd003d741d821a7208527ecf"
  },
  "kernelspec": {
   "display_name": "Python 3.9.9 ('base')",
   "language": "python",
   "name": "python3"
  },
  "language_info": {
   "codemirror_mode": {
    "name": "ipython",
    "version": 3
   },
   "file_extension": ".py",
   "mimetype": "text/x-python",
   "name": "python",
   "nbconvert_exporter": "python",
   "pygments_lexer": "ipython3",
   "version": "3.10.2"
  },
  "orig_nbformat": 4
 },
 "nbformat": 4,
 "nbformat_minor": 2
}
